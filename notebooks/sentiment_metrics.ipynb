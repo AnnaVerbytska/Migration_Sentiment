{
 "cells": [
  {
   "cell_type": "code",
   "execution_count": 1,
   "id": "bc7e2b6d",
   "metadata": {},
   "outputs": [],
   "source": [
    "import pandas as pd"
   ]
  },
  {
   "cell_type": "code",
   "execution_count": 2,
   "id": "7d1c4550",
   "metadata": {},
   "outputs": [],
   "source": [
    "df_eval = pd.read_csv('../data/cardiff_eval_tweeteval_predictions.csv')\n",
    "df_eval = df_eval.dropna(subset=['predicted_label'])  # Optional, in case of any NaNs\n",
    "\n",
    "y_true = df_eval['true_label']\n",
    "y_pred = df_eval['predicted_label']"
   ]
  },
  {
   "cell_type": "code",
   "execution_count": 3,
   "id": "5a13926c",
   "metadata": {},
   "outputs": [],
   "source": [
    "# Compute metrics\n",
    "from sklearn.metrics import classification_report, accuracy_score, precision_score, recall_score, f1_score\n",
    "\n",
    "report = classification_report(y_true, y_pred, output_dict=True)\n"
   ]
  },
  {
   "cell_type": "code",
   "execution_count": null,
   "id": "a376aceb",
   "metadata": {},
   "outputs": [],
   "source": []
  }
 ],
 "metadata": {
  "kernelspec": {
   "display_name": ".venv (3.12.9)",
   "language": "python",
   "name": "python3"
  },
  "language_info": {
   "codemirror_mode": {
    "name": "ipython",
    "version": 3
   },
   "file_extension": ".py",
   "mimetype": "text/x-python",
   "name": "python",
   "nbconvert_exporter": "python",
   "pygments_lexer": "ipython3",
   "version": "3.12.9"
  }
 },
 "nbformat": 4,
 "nbformat_minor": 5
}
