{
 "cells": [
  {
   "cell_type": "code",
   "execution_count": 1,
   "id": "f175a2c6",
   "metadata": {},
   "outputs": [],
   "source": [
    "# Install libraries\n",
    "import pandas as pd \n",
    "import seaborn as sns\n",
    "import matplotlib.pyplot as plt"
   ]
  },
  {
   "cell_type": "code",
   "execution_count": 22,
   "id": "8fafb292",
   "metadata": {},
   "outputs": [],
   "source": [
    "# Load the dataset\n",
    "df = pd.read_csv('../data/reddit_raw.csv')  "
   ]
  },
  {
   "cell_type": "code",
   "execution_count": 23,
   "id": "a7963746",
   "metadata": {},
   "outputs": [
    {
     "name": "stdout",
     "output_type": "stream",
     "text": [
      "<class 'pandas.core.frame.DataFrame'>\n",
      "RangeIndex: 104 entries, 0 to 103\n",
      "Data columns (total 7 columns):\n",
      " #   Column     Non-Null Count  Dtype \n",
      "---  ------     --------------  ----- \n",
      " 0   subreddit  104 non-null    object\n",
      " 1   title      104 non-null    object\n",
      " 2   text       104 non-null    object\n",
      " 3   url        104 non-null    object\n",
      " 4   created    104 non-null    object\n",
      " 5   keyword    104 non-null    object\n",
      " 6   score      104 non-null    int64 \n",
      "dtypes: int64(1), object(6)\n",
      "memory usage: 5.8+ KB\n"
     ]
    }
   ],
   "source": [
    "df.info()"
   ]
  },
  {
   "cell_type": "code",
   "execution_count": 24,
   "id": "58008ccb",
   "metadata": {},
   "outputs": [
    {
     "data": {
      "text/html": [
       "<div>\n",
       "<style scoped>\n",
       "    .dataframe tbody tr th:only-of-type {\n",
       "        vertical-align: middle;\n",
       "    }\n",
       "\n",
       "    .dataframe tbody tr th {\n",
       "        vertical-align: top;\n",
       "    }\n",
       "\n",
       "    .dataframe thead th {\n",
       "        text-align: right;\n",
       "    }\n",
       "</style>\n",
       "<table border=\"1\" class=\"dataframe\">\n",
       "  <thead>\n",
       "    <tr style=\"text-align: right;\">\n",
       "      <th></th>\n",
       "      <th>subreddit</th>\n",
       "      <th>title</th>\n",
       "      <th>text</th>\n",
       "      <th>url</th>\n",
       "      <th>created</th>\n",
       "      <th>keyword</th>\n",
       "      <th>score</th>\n",
       "    </tr>\n",
       "  </thead>\n",
       "  <tbody>\n",
       "    <tr>\n",
       "      <th>0</th>\n",
       "      <td>ukraine</td>\n",
       "      <td>Volunteering in civilian roles</td>\n",
       "      <td>Hi,\\n\\nI’m an American. When the war broke out...</td>\n",
       "      <td>https://www.reddit.com/r/ukraine/comments/1m3v...</td>\n",
       "      <td>2025-07-19 14:54:55</td>\n",
       "      <td>refugee</td>\n",
       "      <td>62</td>\n",
       "    </tr>\n",
       "    <tr>\n",
       "      <th>1</th>\n",
       "      <td>ukraine</td>\n",
       "      <td>&lt;3</td>\n",
       "      <td>As a Polish person I just came here to tell yo...</td>\n",
       "      <td>https://www.reddit.com/r/ukraine/comments/1lxf...</td>\n",
       "      <td>2025-07-11 21:03:10</td>\n",
       "      <td>refugee</td>\n",
       "      <td>544</td>\n",
       "    </tr>\n",
       "    <tr>\n",
       "      <th>2</th>\n",
       "      <td>ukraine</td>\n",
       "      <td>The Angry Ukrainian Syndrome: Injustice and St...</td>\n",
       "      <td>I found this useful for understanding my own b...</td>\n",
       "      <td>https://www.reddit.com/r/ukraine/comments/1lio...</td>\n",
       "      <td>2025-06-23 20:38:06</td>\n",
       "      <td>refugee</td>\n",
       "      <td>230</td>\n",
       "    </tr>\n",
       "    <tr>\n",
       "      <th>3</th>\n",
       "      <td>ukraine</td>\n",
       "      <td>I wrote this letter to my representatives in c...</td>\n",
       "      <td>**Find your representatives here:** [**https:/...</td>\n",
       "      <td>https://www.reddit.com/r/ukraine/comments/1lfq...</td>\n",
       "      <td>2025-06-20 02:45:54</td>\n",
       "      <td>refugee</td>\n",
       "      <td>125</td>\n",
       "    </tr>\n",
       "    <tr>\n",
       "      <th>4</th>\n",
       "      <td>ukraine</td>\n",
       "      <td>Looking forward - would love to hear ppl's tho...</td>\n",
       "      <td>Sorry for the vague question, but I only have ...</td>\n",
       "      <td>https://www.reddit.com/r/ukraine/comments/1kv8...</td>\n",
       "      <td>2025-05-25 19:56:51</td>\n",
       "      <td>refugee</td>\n",
       "      <td>13</td>\n",
       "    </tr>\n",
       "  </tbody>\n",
       "</table>\n",
       "</div>"
      ],
      "text/plain": [
       "  subreddit                                              title  \\\n",
       "0   ukraine                     Volunteering in civilian roles   \n",
       "1   ukraine                                                 <3   \n",
       "2   ukraine  The Angry Ukrainian Syndrome: Injustice and St...   \n",
       "3   ukraine  I wrote this letter to my representatives in c...   \n",
       "4   ukraine  Looking forward - would love to hear ppl's tho...   \n",
       "\n",
       "                                                text  \\\n",
       "0  Hi,\\n\\nI’m an American. When the war broke out...   \n",
       "1  As a Polish person I just came here to tell yo...   \n",
       "2  I found this useful for understanding my own b...   \n",
       "3  **Find your representatives here:** [**https:/...   \n",
       "4  Sorry for the vague question, but I only have ...   \n",
       "\n",
       "                                                 url              created  \\\n",
       "0  https://www.reddit.com/r/ukraine/comments/1m3v...  2025-07-19 14:54:55   \n",
       "1  https://www.reddit.com/r/ukraine/comments/1lxf...  2025-07-11 21:03:10   \n",
       "2  https://www.reddit.com/r/ukraine/comments/1lio...  2025-06-23 20:38:06   \n",
       "3  https://www.reddit.com/r/ukraine/comments/1lfq...  2025-06-20 02:45:54   \n",
       "4  https://www.reddit.com/r/ukraine/comments/1kv8...  2025-05-25 19:56:51   \n",
       "\n",
       "   keyword  score  \n",
       "0  refugee     62  \n",
       "1  refugee    544  \n",
       "2  refugee    230  \n",
       "3  refugee    125  \n",
       "4  refugee     13  "
      ]
     },
     "execution_count": 24,
     "metadata": {},
     "output_type": "execute_result"
    }
   ],
   "source": [
    "df.head()"
   ]
  },
  {
   "cell_type": "code",
   "execution_count": 25,
   "id": "7318ca87",
   "metadata": {},
   "outputs": [
    {
     "data": {
      "text/plain": [
       "subreddit\n",
       "ukraine            50\n",
       "IsraelPalestine    50\n",
       "politics            3\n",
       "geopolitics         1\n",
       "Name: count, dtype: int64"
      ]
     },
     "execution_count": 25,
     "metadata": {},
     "output_type": "execute_result"
    }
   ],
   "source": [
    "df['subreddit'].value_counts()"
   ]
  },
  {
   "cell_type": "code",
   "execution_count": 26,
   "id": "81cd801b",
   "metadata": {},
   "outputs": [
    {
     "data": {
      "text/html": [
       "<div>\n",
       "<style scoped>\n",
       "    .dataframe tbody tr th:only-of-type {\n",
       "        vertical-align: middle;\n",
       "    }\n",
       "\n",
       "    .dataframe tbody tr th {\n",
       "        vertical-align: top;\n",
       "    }\n",
       "\n",
       "    .dataframe thead th {\n",
       "        text-align: right;\n",
       "    }\n",
       "</style>\n",
       "<table border=\"1\" class=\"dataframe\">\n",
       "  <thead>\n",
       "    <tr style=\"text-align: right;\">\n",
       "      <th></th>\n",
       "      <th>subreddit</th>\n",
       "      <th>title</th>\n",
       "      <th>text</th>\n",
       "      <th>url</th>\n",
       "      <th>created</th>\n",
       "      <th>keyword</th>\n",
       "      <th>score</th>\n",
       "    </tr>\n",
       "  </thead>\n",
       "  <tbody>\n",
       "    <tr>\n",
       "      <th>54</th>\n",
       "      <td>IsraelPalestine</td>\n",
       "      <td>The Pro-Palestine movement is slowly proving i...</td>\n",
       "      <td>**Important to note:**\\n\\n  \\n**I sympathize w...</td>\n",
       "      <td>https://www.reddit.com/r/IsraelPalestine/comme...</td>\n",
       "      <td>2025-07-24 08:31:16</td>\n",
       "      <td>migrant</td>\n",
       "      <td>47</td>\n",
       "    </tr>\n",
       "    <tr>\n",
       "      <th>55</th>\n",
       "      <td>IsraelPalestine</td>\n",
       "      <td>At What Point Does Resistance Become Selfishness?</td>\n",
       "      <td>I was taking a look at some numbers of people ...</td>\n",
       "      <td>https://www.reddit.com/r/IsraelPalestine/comme...</td>\n",
       "      <td>2025-07-20 18:22:08</td>\n",
       "      <td>migrant</td>\n",
       "      <td>7</td>\n",
       "    </tr>\n",
       "    <tr>\n",
       "      <th>56</th>\n",
       "      <td>IsraelPalestine</td>\n",
       "      <td>Why do Islamic Totalitarian Theocracies get a ...</td>\n",
       "      <td>Just today Arab and Persian sources report on ...</td>\n",
       "      <td>https://www.reddit.com/r/IsraelPalestine/comme...</td>\n",
       "      <td>2025-06-30 00:55:36</td>\n",
       "      <td>migrant</td>\n",
       "      <td>57</td>\n",
       "    </tr>\n",
       "    <tr>\n",
       "      <th>57</th>\n",
       "      <td>IsraelPalestine</td>\n",
       "      <td>Myth: Israel Population Mostly Holocaust Refugees</td>\n",
       "      <td>I find the following numbers factual and persu...</td>\n",
       "      <td>https://www.reddit.com/r/IsraelPalestine/comme...</td>\n",
       "      <td>2025-06-18 20:49:56</td>\n",
       "      <td>migrant</td>\n",
       "      <td>73</td>\n",
       "    </tr>\n",
       "    <tr>\n",
       "      <th>58</th>\n",
       "      <td>IsraelPalestine</td>\n",
       "      <td>If the IDF touches Greta thunberg it’s over….</td>\n",
       "      <td>Ya know the other day I was looking into this ...</td>\n",
       "      <td>https://www.reddit.com/r/IsraelPalestine/comme...</td>\n",
       "      <td>2025-06-04 19:13:57</td>\n",
       "      <td>migrant</td>\n",
       "      <td>24</td>\n",
       "    </tr>\n",
       "  </tbody>\n",
       "</table>\n",
       "</div>"
      ],
      "text/plain": [
       "          subreddit                                              title  \\\n",
       "54  IsraelPalestine  The Pro-Palestine movement is slowly proving i...   \n",
       "55  IsraelPalestine  At What Point Does Resistance Become Selfishness?   \n",
       "56  IsraelPalestine  Why do Islamic Totalitarian Theocracies get a ...   \n",
       "57  IsraelPalestine  Myth: Israel Population Mostly Holocaust Refugees   \n",
       "58  IsraelPalestine      If the IDF touches Greta thunberg it’s over….   \n",
       "\n",
       "                                                 text  \\\n",
       "54  **Important to note:**\\n\\n  \\n**I sympathize w...   \n",
       "55  I was taking a look at some numbers of people ...   \n",
       "56  Just today Arab and Persian sources report on ...   \n",
       "57  I find the following numbers factual and persu...   \n",
       "58  Ya know the other day I was looking into this ...   \n",
       "\n",
       "                                                  url              created  \\\n",
       "54  https://www.reddit.com/r/IsraelPalestine/comme...  2025-07-24 08:31:16   \n",
       "55  https://www.reddit.com/r/IsraelPalestine/comme...  2025-07-20 18:22:08   \n",
       "56  https://www.reddit.com/r/IsraelPalestine/comme...  2025-06-30 00:55:36   \n",
       "57  https://www.reddit.com/r/IsraelPalestine/comme...  2025-06-18 20:49:56   \n",
       "58  https://www.reddit.com/r/IsraelPalestine/comme...  2025-06-04 19:13:57   \n",
       "\n",
       "    keyword  score  \n",
       "54  migrant     47  \n",
       "55  migrant      7  \n",
       "56  migrant     57  \n",
       "57  migrant     73  \n",
       "58  migrant     24  "
      ]
     },
     "execution_count": 26,
     "metadata": {},
     "output_type": "execute_result"
    }
   ],
   "source": [
    "# Example for specific subreddit\n",
    "df[df['subreddit']=='IsraelPalestine'].head()  "
   ]
  },
  {
   "cell_type": "code",
   "execution_count": 27,
   "id": "223dde3a",
   "metadata": {},
   "outputs": [
    {
     "data": {
      "text/html": [
       "<div>\n",
       "<style scoped>\n",
       "    .dataframe tbody tr th:only-of-type {\n",
       "        vertical-align: middle;\n",
       "    }\n",
       "\n",
       "    .dataframe tbody tr th {\n",
       "        vertical-align: top;\n",
       "    }\n",
       "\n",
       "    .dataframe thead th {\n",
       "        text-align: right;\n",
       "    }\n",
       "</style>\n",
       "<table border=\"1\" class=\"dataframe\">\n",
       "  <thead>\n",
       "    <tr style=\"text-align: right;\">\n",
       "      <th></th>\n",
       "      <th>subreddit</th>\n",
       "      <th>title</th>\n",
       "      <th>text</th>\n",
       "      <th>url</th>\n",
       "      <th>created</th>\n",
       "      <th>keyword</th>\n",
       "      <th>score</th>\n",
       "    </tr>\n",
       "  </thead>\n",
       "  <tbody>\n",
       "    <tr>\n",
       "      <th>0</th>\n",
       "      <td>ukraine</td>\n",
       "      <td>Volunteering in civilian roles</td>\n",
       "      <td>Hi,\\n\\nI’m an American. When the war broke out...</td>\n",
       "      <td>https://www.reddit.com/r/ukraine/comments/1m3v...</td>\n",
       "      <td>2025-07-19 14:54:55</td>\n",
       "      <td>refugee</td>\n",
       "      <td>62</td>\n",
       "    </tr>\n",
       "    <tr>\n",
       "      <th>1</th>\n",
       "      <td>ukraine</td>\n",
       "      <td>&lt;3</td>\n",
       "      <td>As a Polish person I just came here to tell yo...</td>\n",
       "      <td>https://www.reddit.com/r/ukraine/comments/1lxf...</td>\n",
       "      <td>2025-07-11 21:03:10</td>\n",
       "      <td>refugee</td>\n",
       "      <td>544</td>\n",
       "    </tr>\n",
       "    <tr>\n",
       "      <th>2</th>\n",
       "      <td>ukraine</td>\n",
       "      <td>The Angry Ukrainian Syndrome: Injustice and St...</td>\n",
       "      <td>I found this useful for understanding my own b...</td>\n",
       "      <td>https://www.reddit.com/r/ukraine/comments/1lio...</td>\n",
       "      <td>2025-06-23 20:38:06</td>\n",
       "      <td>refugee</td>\n",
       "      <td>230</td>\n",
       "    </tr>\n",
       "    <tr>\n",
       "      <th>3</th>\n",
       "      <td>ukraine</td>\n",
       "      <td>I wrote this letter to my representatives in c...</td>\n",
       "      <td>**Find your representatives here:** [**https:/...</td>\n",
       "      <td>https://www.reddit.com/r/ukraine/comments/1lfq...</td>\n",
       "      <td>2025-06-20 02:45:54</td>\n",
       "      <td>refugee</td>\n",
       "      <td>125</td>\n",
       "    </tr>\n",
       "    <tr>\n",
       "      <th>4</th>\n",
       "      <td>ukraine</td>\n",
       "      <td>Looking forward - would love to hear ppl's tho...</td>\n",
       "      <td>Sorry for the vague question, but I only have ...</td>\n",
       "      <td>https://www.reddit.com/r/ukraine/comments/1kv8...</td>\n",
       "      <td>2025-05-25 19:56:51</td>\n",
       "      <td>refugee</td>\n",
       "      <td>13</td>\n",
       "    </tr>\n",
       "  </tbody>\n",
       "</table>\n",
       "</div>"
      ],
      "text/plain": [
       "  subreddit                                              title  \\\n",
       "0   ukraine                     Volunteering in civilian roles   \n",
       "1   ukraine                                                 <3   \n",
       "2   ukraine  The Angry Ukrainian Syndrome: Injustice and St...   \n",
       "3   ukraine  I wrote this letter to my representatives in c...   \n",
       "4   ukraine  Looking forward - would love to hear ppl's tho...   \n",
       "\n",
       "                                                text  \\\n",
       "0  Hi,\\n\\nI’m an American. When the war broke out...   \n",
       "1  As a Polish person I just came here to tell yo...   \n",
       "2  I found this useful for understanding my own b...   \n",
       "3  **Find your representatives here:** [**https:/...   \n",
       "4  Sorry for the vague question, but I only have ...   \n",
       "\n",
       "                                                 url              created  \\\n",
       "0  https://www.reddit.com/r/ukraine/comments/1m3v...  2025-07-19 14:54:55   \n",
       "1  https://www.reddit.com/r/ukraine/comments/1lxf...  2025-07-11 21:03:10   \n",
       "2  https://www.reddit.com/r/ukraine/comments/1lio...  2025-06-23 20:38:06   \n",
       "3  https://www.reddit.com/r/ukraine/comments/1lfq...  2025-06-20 02:45:54   \n",
       "4  https://www.reddit.com/r/ukraine/comments/1kv8...  2025-05-25 19:56:51   \n",
       "\n",
       "   keyword  score  \n",
       "0  refugee     62  \n",
       "1  refugee    544  \n",
       "2  refugee    230  \n",
       "3  refugee    125  \n",
       "4  refugee     13  "
      ]
     },
     "execution_count": 27,
     "metadata": {},
     "output_type": "execute_result"
    }
   ],
   "source": [
    "# Example for specific subreddit\n",
    "df[df['subreddit']=='ukraine'].head()  "
   ]
  },
  {
   "cell_type": "code",
   "execution_count": 28,
   "id": "e5ca5605",
   "metadata": {},
   "outputs": [
    {
     "data": {
      "text/plain": [
       "score\n",
       "6       5\n",
       "14      4\n",
       "30      4\n",
       "19      4\n",
       "8       3\n",
       "       ..\n",
       "112     1\n",
       "161     1\n",
       "166     1\n",
       "1413    1\n",
       "23      1\n",
       "Name: count, Length: 70, dtype: int64"
      ]
     },
     "execution_count": 28,
     "metadata": {},
     "output_type": "execute_result"
    }
   ],
   "source": [
    "# Check the distribution of scores\n",
    "df['score'].value_counts() "
   ]
  },
  {
   "cell_type": "code",
   "execution_count": 29,
   "id": "447ac7e9",
   "metadata": {},
   "outputs": [
    {
     "data": {
      "text/plain": [
       "keyword\n",
       "refugee                               55\n",
       "refugees fleeing Russian invasion      9\n",
       "internal displacement Ukraine          8\n",
       "migrant                                7\n",
       "border crossing                        6\n",
       "eastern Ukraine                        6\n",
       "immigrantUkrainian refugee             3\n",
       "Israel war migrant                     3\n",
       "migration                              2\n",
       "refugee in Europe                      2\n",
       "Ukrainian war migrantGaza refugees     2\n",
       "asylum seeker                          1\n",
       "Name: count, dtype: int64"
      ]
     },
     "execution_count": 29,
     "metadata": {},
     "output_type": "execute_result"
    }
   ],
   "source": [
    "df['keyword'].value_counts()"
   ]
  },
  {
   "cell_type": "code",
   "execution_count": 31,
   "id": "bbef1ffe",
   "metadata": {},
   "outputs": [
    {
     "data": {
      "image/png": "[encoded data removed]",
      "text/plain": [
       "<Figure size 1000x600 with 1 Axes>"
      ]
     },
     "metadata": {},
     "output_type": "display_data"
    }
   ],
   "source": [
    "# Plotting the score distribution for a specific subreddit\n",
    "plt.figure(figsize=(10,6))\n",
    "scores = df[df['subreddit'] == 'geopolitics']['score']\n",
    "plt.hist(scores, bins=50, log=True, edgecolor='black')\n",
    "plt.title('Score Distribution in r/politics (log scale)')\n",
    "plt.xlabel('Score')\n",
    "plt.ylabel('Frequency (log scale)')\n",
    "plt.show()"
   ]
  },
  {
   "cell_type": "code",
   "execution_count": 32,
   "id": "951e4343",
   "metadata": {},
   "outputs": [
    {
     "data": {
      "image/png": "[encoded data removed]",
      "text/plain": [
       "<Figure size 1400x500 with 2 Axes>"
      ]
     },
     "metadata": {},
     "output_type": "display_data"
    }
   ],
   "source": [
    "# Plotting the score distribution for two subreddits side by side\n",
    "fig, axes = plt.subplots(1, 2, figsize=(14, 5), sharey=True)\n",
    "scores_israel = df[df['subreddit'] == 'IsraelPalestine']['score']\n",
    "scores_ukraine = df[df['subreddit'] == 'ukraine']['score']\n",
    "axes[0].hist(scores_israel, bins=50, color='blue', edgecolor='black', log=True)\n",
    "axes[0].set_title('IsraelPalestine Scores')\n",
    "axes[0].set_xlabel('Score')\n",
    "axes[0].set_ylabel('Frequency (log scale)')\n",
    "\n",
    "axes[1].hist(scores_ukraine, bins=50, color='orange', edgecolor='black', log=True)\n",
    "axes[1].set_title('Ukraine Scores')\n",
    "axes[1].set_xlabel('Score')\n",
    "\n",
    "plt.tight_layout()\n",
    "plt.show()\n"
   ]
  },
  {
   "cell_type": "code",
   "execution_count": 33,
   "id": "036c735d",
   "metadata": {},
   "outputs": [
    {
     "data": {
      "image/png": "[encoded data removed]",
      "text/plain": [
       "<Figure size 1400x800 with 1 Axes>"
      ]
     },
     "metadata": {},
     "output_type": "display_data"
    }
   ],
   "source": [
    "# Plotting the overlapped score distribution zoomed in for scores less than 500 \n",
    "plt.figure(figsize=(14, 8))\n",
    "\n",
    "plt.hist(scores_israel[scores_israel < 500], bins=50, alpha=0.5, label='IsraelPalestine (<500)', edgecolor='black', log=True)\n",
    "plt.hist(scores_ukraine[scores_ukraine < 500], bins=50, alpha=0.5, label='Ukraine (<500)', edgecolor='black', log=True)\n",
    "\n",
    "plt.title('Score Distribution Zoomed (<500) - IsraelPalestine vs Ukraine')\n",
    "plt.xlabel('Score')\n",
    "plt.ylabel('Frequency (log scale)')\n",
    "plt.legend()\n",
    "plt.show()\n"
   ]
  },
  {
   "cell_type": "markdown",
   "id": "448cb920",
   "metadata": {},
   "source": [
    "Interpretation & implications:\n",
    "\n",
    "    r/IsraelPalestine appears to have many low-engagement or newly posted items, potentially with more recent or less popular content.\n",
    "\n",
    "    r/ukraine shows a more varied and engaged set of posts, with more posts earning medium to high scores.\n",
    "\n",
    "    This may reflect differences in subreddit size, activity, audience engagement, or post longevity.\n",
    "\n",
    "    It suggests Ukraine discussions might generate broader engagement, while IsraelPalestine posts might be more niche or recently posted."
   ]
  },
  {
   "cell_type": "code",
   "execution_count": 34,
   "id": "127aa8c5",
   "metadata": {},
   "outputs": [
    {
     "data": {
      "image/png": "[encoded data removed]",
      "text/plain": [
       "<Figure size 800x600 with 1 Axes>"
      ]
     },
     "metadata": {},
     "output_type": "display_data"
    }
   ],
   "source": [
    "# Boxplot for score distribution by subreddit\n",
    "plt.figure(figsize=(8, 6))\n",
    "subset = df[df['subreddit'].isin(['IsraelPalestine', 'ukraine'])]\n",
    "sns.boxplot(data=subset, x='subreddit', y='score')\n",
    "plt.yscale('log')\n",
    "plt.title('Score Distribution by Subreddit (log scale)')\n",
    "plt.show()\n"
   ]
  },
  {
   "cell_type": "code",
   "execution_count": 35,
   "id": "ad3041f4",
   "metadata": {},
   "outputs": [
    {
     "name": "stdout",
     "output_type": "stream",
     "text": [
      "['ukraine' 'geopolitics' 'IsraelPalestine']\n"
     ]
    }
   ],
   "source": [
    "df = df[df['subreddit'] != 'politics']\n",
    "print(df['subreddit'].unique())"
   ]
  },
  {
   "cell_type": "code",
   "execution_count": 36,
   "id": "7321c637",
   "metadata": {},
   "outputs": [
    {
     "name": "stdout",
     "output_type": "stream",
     "text": [
      "<class 'pandas.core.frame.DataFrame'>\n",
      "Index: 101 entries, 0 to 103\n",
      "Data columns (total 7 columns):\n",
      " #   Column     Non-Null Count  Dtype \n",
      "---  ------     --------------  ----- \n",
      " 0   subreddit  101 non-null    object\n",
      " 1   title      101 non-null    object\n",
      " 2   text       101 non-null    object\n",
      " 3   url        101 non-null    object\n",
      " 4   created    101 non-null    object\n",
      " 5   keyword    101 non-null    object\n",
      " 6   score      101 non-null    int64 \n",
      "dtypes: int64(1), object(6)\n",
      "memory usage: 6.3+ KB\n"
     ]
    }
   ],
   "source": [
    "df.info()"
   ]
  },
  {
   "cell_type": "code",
   "execution_count": 37,
   "id": "409cca59",
   "metadata": {},
   "outputs": [
    {
     "data": {
      "text/plain": [
       "0    Hi,\\n\\nI’m an American. When the war broke out...\n",
       "1    As a Polish person I just came here to tell yo...\n",
       "2    I found this useful for understanding my own b...\n",
       "3    **Find your representatives here:** [**https:/...\n",
       "4    Sorry for the vague question, but I only have ...\n",
       "5    hello, \\nI’m not Ukrainian but my friend is. I...\n",
       "6    **Find your representatives here:** [**https:/...\n",
       "7    Hello there! \\n\\nMy now wife and I moved to Iv...\n",
       "8    I found this useful for understanding my own b...\n",
       "9    Hi everyone,\\n\\nI’m planning a short trip from...\n",
       "Name: text, dtype: object"
      ]
     },
     "execution_count": 37,
     "metadata": {},
     "output_type": "execute_result"
    }
   ],
   "source": [
    "df['text'].iloc[0:10]"
   ]
  },
  {
   "cell_type": "code",
   "execution_count": 40,
   "id": "61923b5c",
   "metadata": {},
   "outputs": [],
   "source": [
    "import sys\n",
    "sys.path.append('../src')\n",
    "# Import feature engineering functions\n",
    "from preprocess import clean_text"
   ]
  },
  {
   "cell_type": "code",
   "execution_count": 41,
   "id": "38e84de7",
   "metadata": {},
   "outputs": [],
   "source": [
    "df['text'] = df['text'].apply(clean_text)"
   ]
  },
  {
   "cell_type": "code",
   "execution_count": 39,
   "id": "19cea0a8",
   "metadata": {},
   "outputs": [
    {
     "data": {
      "text/plain": [
       "0    Hi, I’m an American. When the war broke out, I...\n",
       "1    As a Polish person I just came here to tell yo...\n",
       "2    I found this useful for understanding my own b...\n",
       "3    Find your representatives here: Subject: Urgen...\n",
       "4    Sorry for the vague question, but I only have ...\n",
       "5    hello, I’m not Ukrainian but my friend is. I’m...\n",
       "6    Find your representatives here: Subject: Urgen...\n",
       "7    Hello there! My now wife and I moved to Ivano-...\n",
       "8    I found this useful for understanding my own b...\n",
       "9    Hi everyone, I’m planning a short trip from Ko...\n",
       "Name: text, dtype: object"
      ]
     },
     "execution_count": 39,
     "metadata": {},
     "output_type": "execute_result"
    }
   ],
   "source": [
    "df['text'].iloc[0:10]"
   ]
  }
 ],
 "metadata": {
  "kernelspec": {
   "display_name": ".venv (3.12.9)",
   "language": "python",
   "name": "python3"
  },
  "language_info": {
   "codemirror_mode": {
    "name": "ipython",
    "version": 3
   },
   "file_extension": ".py",
   "mimetype": "text/x-python",
   "name": "python",
   "nbconvert_exporter": "python",
   "pygments_lexer": "ipython3",
   "version": "3.12.9"
  }
 },
 "nbformat": 4,
 "nbformat_minor": 5
}
