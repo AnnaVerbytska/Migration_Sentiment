{
 "cells": [
  {
   "cell_type": "code",
   "execution_count": 4,
   "id": "f175a2c6",
   "metadata": {},
   "outputs": [
    {
     "data": {
      "text/plain": [
       "True"
      ]
     },
     "execution_count": 4,
     "metadata": {},
     "output_type": "execute_result"
    }
   ],
   "source": [
    "# Install libraries\n",
    "import pandas as pd \n",
    "import praw # for Reddit API interaction\n",
    "import datetime\n",
    "import time\n",
    "\n",
    "import sys\n",
    "import os\n",
    "sys.path.append(os.path.abspath(os.path.join(os.getcwd(), '..')))\n",
    "\n",
    "# Setting secret credentials\n",
    "from dotenv import load_dotenv  # pip install python-dotenv\n",
    "load_dotenv()  # Load environment variables from .env file\n"
   ]
  },
  {
   "cell_type": "code",
   "execution_count": 5,
   "id": "acafc6f8",
   "metadata": {},
   "outputs": [],
   "source": [
    "# Create Reddit client using environment variables\n",
    "reddit = praw.Reddit(\n",
    "    client_id=os.getenv(\"CLIENT_ID\"),\n",
    "    client_secret=os.getenv(\"CLIENT_SECRET\"),\n",
    "    user_agent=os.getenv(\"USER_AGENT\")\n",
    ")\n"
   ]
  },
  {
   "cell_type": "code",
   "execution_count": 6,
   "id": "002a7b9a",
   "metadata": {},
   "outputs": [
    {
     "name": "stdout",
     "output_type": "stream",
     "text": [
      "Title: Lad wrote a Python script to download Alexa voice recordings, he didn't expect this email.\n",
      "Score: 12346\n",
      "Posted on: 2020-04-21 01:11:39\n",
      "------------------------------------------------------------\n",
      "Title: This post has:\n",
      "Score: 9234\n",
      "Posted on: 2020-07-10 15:06:13\n",
      "------------------------------------------------------------\n",
      "Title: I redesign the Python logo to make it more modern\n",
      "Score: 7870\n",
      "Posted on: 2020-05-08 15:39:09\n",
      "------------------------------------------------------------\n",
      "Title: Automate the boring stuff with python - tinder\n",
      "Score: 6730\n",
      "Posted on: 2017-12-19 01:47:56\n",
      "------------------------------------------------------------\n",
      "Title: I'm excited to share my first published book, Introduction to Python Programming for Business and Social Science Applications -- specifically geared towards students not specifically in computer science\n",
      "Score: 6504\n",
      "Posted on: 2020-09-12 19:53:16\n",
      "------------------------------------------------------------\n"
     ]
    }
   ],
   "source": [
    "# Example: Fetch top 5 posts from r/python\n",
    "subreddit = reddit.subreddit(\"python\")\n",
    "\n",
    "for post in subreddit.top(limit=5):\n",
    "    print(f\"Title: {post.title}\")\n",
    "    print(f\"Score: {post.score}\")\n",
    "    print(f\"Posted on: {datetime.datetime.fromtimestamp(post.created_utc)}\")\n",
    "    print(\"-\" * 60)\n",
    "    time.sleep(1)  # prevent hitting API limits"
   ]
  },
  {
   "cell_type": "code",
   "execution_count": null,
   "id": "2df78ebd",
   "metadata": {},
   "outputs": [],
   "source": []
  }
 ],
 "metadata": {
  "kernelspec": {
   "display_name": ".venv (3.12.9)",
   "language": "python",
   "name": "python3"
  },
  "language_info": {
   "codemirror_mode": {
    "name": "ipython",
    "version": 3
   },
   "file_extension": ".py",
   "mimetype": "text/x-python",
   "name": "python",
   "nbconvert_exporter": "python",
   "pygments_lexer": "ipython3",
   "version": "3.12.9"
  }
 },
 "nbformat": 4,
 "nbformat_minor": 5
}
