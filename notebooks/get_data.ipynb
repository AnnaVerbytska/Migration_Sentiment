{
 "cells": [
  {
   "cell_type": "code",
   "execution_count": 38,
   "id": "f175a2c6",
   "metadata": {},
   "outputs": [
    {
     "data": {
      "text/plain": [
       "True"
      ]
     },
     "execution_count": 38,
     "metadata": {},
     "output_type": "execute_result"
    }
   ],
   "source": [
    "# Install libraries\n",
    "import pandas as pd \n",
    "import praw # for Reddit API interaction\n",
    "import datetime\n",
    "import time\n",
    "import seaborn as sns\n",
    "import matplotlib.pyplot as plt\n",
    "\n",
    "import sys\n",
    "import os\n",
    "sys.path.append(os.path.abspath(os.path.join(os.getcwd(), '..')))\n",
    "\n",
    "# Setting secret credentials\n",
    "from dotenv import load_dotenv  # pip install python-dotenv\n",
    "load_dotenv()  # Load environment variables from .env file\n"
   ]
  },
  {
   "cell_type": "code",
   "execution_count": null,
   "id": "8fafb292",
   "metadata": {},
   "outputs": [],
   "source": [
    "df = pd.read_csv('../data/reddit_raw.csv')  # Load the dataset"
   ]
  },
  {
   "cell_type": "code",
   "execution_count": 60,
   "id": "a7963746",
   "metadata": {},
   "outputs": [
    {
     "name": "stdout",
     "output_type": "stream",
     "text": [
      "<class 'pandas.core.frame.DataFrame'>\n",
      "RangeIndex: 94 entries, 0 to 93\n",
      "Data columns (total 7 columns):\n",
      " #   Column     Non-Null Count  Dtype \n",
      "---  ------     --------------  ----- \n",
      " 0   subreddit  94 non-null     object\n",
      " 1   title      94 non-null     object\n",
      " 2   text       94 non-null     object\n",
      " 3   url        94 non-null     object\n",
      " 4   created    94 non-null     object\n",
      " 5   keyword    94 non-null     object\n",
      " 6   score      94 non-null     int64 \n",
      "dtypes: int64(1), object(6)\n",
      "memory usage: 5.3+ KB\n"
     ]
    }
   ],
   "source": [
    "df.info()"
   ]
  },
  {
   "cell_type": "code",
   "execution_count": 61,
   "id": "58008ccb",
   "metadata": {},
   "outputs": [
    {
     "data": {
      "text/html": [
       "<div>\n",
       "<style scoped>\n",
       "    .dataframe tbody tr th:only-of-type {\n",
       "        vertical-align: middle;\n",
       "    }\n",
       "\n",
       "    .dataframe tbody tr th {\n",
       "        vertical-align: top;\n",
       "    }\n",
       "\n",
       "    .dataframe thead th {\n",
       "        text-align: right;\n",
       "    }\n",
       "</style>\n",
       "<table border=\"1\" class=\"dataframe\">\n",
       "  <thead>\n",
       "    <tr style=\"text-align: right;\">\n",
       "      <th></th>\n",
       "      <th>subreddit</th>\n",
       "      <th>title</th>\n",
       "      <th>text</th>\n",
       "      <th>url</th>\n",
       "      <th>created</th>\n",
       "      <th>keyword</th>\n",
       "      <th>score</th>\n",
       "    </tr>\n",
       "  </thead>\n",
       "  <tbody>\n",
       "    <tr>\n",
       "      <th>0</th>\n",
       "      <td>ukraine</td>\n",
       "      <td>Volunteering in civilian roles</td>\n",
       "      <td>Hi,\\n\\nI’m an American. When the war broke out...</td>\n",
       "      <td>https://www.reddit.com/r/ukraine/comments/1m3v...</td>\n",
       "      <td>2025-07-19 14:54:55</td>\n",
       "      <td>refugee</td>\n",
       "      <td>61</td>\n",
       "    </tr>\n",
       "    <tr>\n",
       "      <th>1</th>\n",
       "      <td>ukraine</td>\n",
       "      <td>&lt;3</td>\n",
       "      <td>As a Polish person I just came here to tell yo...</td>\n",
       "      <td>https://www.reddit.com/r/ukraine/comments/1lxf...</td>\n",
       "      <td>2025-07-11 21:03:10</td>\n",
       "      <td>refugee</td>\n",
       "      <td>540</td>\n",
       "    </tr>\n",
       "    <tr>\n",
       "      <th>2</th>\n",
       "      <td>ukraine</td>\n",
       "      <td>The Angry Ukrainian Syndrome: Injustice and St...</td>\n",
       "      <td>I found this useful for understanding my own b...</td>\n",
       "      <td>https://www.reddit.com/r/ukraine/comments/1lio...</td>\n",
       "      <td>2025-06-23 20:38:06</td>\n",
       "      <td>refugee</td>\n",
       "      <td>227</td>\n",
       "    </tr>\n",
       "    <tr>\n",
       "      <th>3</th>\n",
       "      <td>ukraine</td>\n",
       "      <td>I wrote this letter to my representatives in c...</td>\n",
       "      <td>**Find your representatives here:** [**https:/...</td>\n",
       "      <td>https://www.reddit.com/r/ukraine/comments/1lfq...</td>\n",
       "      <td>2025-06-20 02:45:54</td>\n",
       "      <td>refugee</td>\n",
       "      <td>128</td>\n",
       "    </tr>\n",
       "    <tr>\n",
       "      <th>4</th>\n",
       "      <td>ukraine</td>\n",
       "      <td>Looking forward - would love to hear ppl's tho...</td>\n",
       "      <td>Sorry for the vague question, but I only have ...</td>\n",
       "      <td>https://www.reddit.com/r/ukraine/comments/1kv8...</td>\n",
       "      <td>2025-05-25 19:56:51</td>\n",
       "      <td>refugee</td>\n",
       "      <td>14</td>\n",
       "    </tr>\n",
       "  </tbody>\n",
       "</table>\n",
       "</div>"
      ],
      "text/plain": [
       "  subreddit                                              title  \\\n",
       "0   ukraine                     Volunteering in civilian roles   \n",
       "1   ukraine                                                 <3   \n",
       "2   ukraine  The Angry Ukrainian Syndrome: Injustice and St...   \n",
       "3   ukraine  I wrote this letter to my representatives in c...   \n",
       "4   ukraine  Looking forward - would love to hear ppl's tho...   \n",
       "\n",
       "                                                text  \\\n",
       "0  Hi,\\n\\nI’m an American. When the war broke out...   \n",
       "1  As a Polish person I just came here to tell yo...   \n",
       "2  I found this useful for understanding my own b...   \n",
       "3  **Find your representatives here:** [**https:/...   \n",
       "4  Sorry for the vague question, but I only have ...   \n",
       "\n",
       "                                                 url              created  \\\n",
       "0  https://www.reddit.com/r/ukraine/comments/1m3v...  2025-07-19 14:54:55   \n",
       "1  https://www.reddit.com/r/ukraine/comments/1lxf...  2025-07-11 21:03:10   \n",
       "2  https://www.reddit.com/r/ukraine/comments/1lio...  2025-06-23 20:38:06   \n",
       "3  https://www.reddit.com/r/ukraine/comments/1lfq...  2025-06-20 02:45:54   \n",
       "4  https://www.reddit.com/r/ukraine/comments/1kv8...  2025-05-25 19:56:51   \n",
       "\n",
       "   keyword  score  \n",
       "0  refugee     61  \n",
       "1  refugee    540  \n",
       "2  refugee    227  \n",
       "3  refugee    128  \n",
       "4  refugee     14  "
      ]
     },
     "execution_count": 61,
     "metadata": {},
     "output_type": "execute_result"
    }
   ],
   "source": [
    "df.head()"
   ]
  },
  {
   "cell_type": "code",
   "execution_count": 62,
   "id": "7318ca87",
   "metadata": {},
   "outputs": [
    {
     "data": {
      "text/plain": [
       "subreddit\n",
       "IsraelPalestine    50\n",
       "ukraine            41\n",
       "politics            3\n",
       "Name: count, dtype: int64"
      ]
     },
     "execution_count": 62,
     "metadata": {},
     "output_type": "execute_result"
    }
   ],
   "source": [
    "df['subreddit'].value_counts()"
   ]
  },
  {
   "cell_type": "code",
   "execution_count": 63,
   "id": "81cd801b",
   "metadata": {},
   "outputs": [
    {
     "data": {
      "text/html": [
       "<div>\n",
       "<style scoped>\n",
       "    .dataframe tbody tr th:only-of-type {\n",
       "        vertical-align: middle;\n",
       "    }\n",
       "\n",
       "    .dataframe tbody tr th {\n",
       "        vertical-align: top;\n",
       "    }\n",
       "\n",
       "    .dataframe thead th {\n",
       "        text-align: right;\n",
       "    }\n",
       "</style>\n",
       "<table border=\"1\" class=\"dataframe\">\n",
       "  <thead>\n",
       "    <tr style=\"text-align: right;\">\n",
       "      <th></th>\n",
       "      <th>subreddit</th>\n",
       "      <th>title</th>\n",
       "      <th>text</th>\n",
       "      <th>url</th>\n",
       "      <th>created</th>\n",
       "      <th>keyword</th>\n",
       "      <th>score</th>\n",
       "    </tr>\n",
       "  </thead>\n",
       "  <tbody>\n",
       "    <tr>\n",
       "      <th>44</th>\n",
       "      <td>IsraelPalestine</td>\n",
       "      <td>The Pro-Palestine movement is slowly proving i...</td>\n",
       "      <td>**Important to note:**\\n\\n  \\n**I sympathize w...</td>\n",
       "      <td>https://www.reddit.com/r/IsraelPalestine/comme...</td>\n",
       "      <td>2025-07-24 08:31:16</td>\n",
       "      <td>migrant</td>\n",
       "      <td>43</td>\n",
       "    </tr>\n",
       "    <tr>\n",
       "      <th>45</th>\n",
       "      <td>IsraelPalestine</td>\n",
       "      <td>Why do Islamic Totalitarian Theocracies get a ...</td>\n",
       "      <td>Just today Arab and Persian sources report on ...</td>\n",
       "      <td>https://www.reddit.com/r/IsraelPalestine/comme...</td>\n",
       "      <td>2025-06-30 00:55:36</td>\n",
       "      <td>migrant</td>\n",
       "      <td>59</td>\n",
       "    </tr>\n",
       "    <tr>\n",
       "      <th>46</th>\n",
       "      <td>IsraelPalestine</td>\n",
       "      <td>Myth: Israel Population Mostly Holocaust Refugees</td>\n",
       "      <td>I find the following numbers factual and persu...</td>\n",
       "      <td>https://www.reddit.com/r/IsraelPalestine/comme...</td>\n",
       "      <td>2025-06-18 20:49:56</td>\n",
       "      <td>migrant</td>\n",
       "      <td>69</td>\n",
       "    </tr>\n",
       "    <tr>\n",
       "      <th>47</th>\n",
       "      <td>IsraelPalestine</td>\n",
       "      <td>If the IDF touches Greta thunberg it’s over….</td>\n",
       "      <td>Ya know the other day I was looking into this ...</td>\n",
       "      <td>https://www.reddit.com/r/IsraelPalestine/comme...</td>\n",
       "      <td>2025-06-04 19:13:57</td>\n",
       "      <td>migrant</td>\n",
       "      <td>22</td>\n",
       "    </tr>\n",
       "    <tr>\n",
       "      <th>48</th>\n",
       "      <td>IsraelPalestine</td>\n",
       "      <td>Is it just me or is Qatar basically everything...</td>\n",
       "      <td>At this point Qatar feels less like a country ...</td>\n",
       "      <td>https://www.reddit.com/r/IsraelPalestine/comme...</td>\n",
       "      <td>2025-05-18 08:38:31</td>\n",
       "      <td>migrant</td>\n",
       "      <td>162</td>\n",
       "    </tr>\n",
       "  </tbody>\n",
       "</table>\n",
       "</div>"
      ],
      "text/plain": [
       "          subreddit                                              title  \\\n",
       "44  IsraelPalestine  The Pro-Palestine movement is slowly proving i...   \n",
       "45  IsraelPalestine  Why do Islamic Totalitarian Theocracies get a ...   \n",
       "46  IsraelPalestine  Myth: Israel Population Mostly Holocaust Refugees   \n",
       "47  IsraelPalestine      If the IDF touches Greta thunberg it’s over….   \n",
       "48  IsraelPalestine  Is it just me or is Qatar basically everything...   \n",
       "\n",
       "                                                 text  \\\n",
       "44  **Important to note:**\\n\\n  \\n**I sympathize w...   \n",
       "45  Just today Arab and Persian sources report on ...   \n",
       "46  I find the following numbers factual and persu...   \n",
       "47  Ya know the other day I was looking into this ...   \n",
       "48  At this point Qatar feels less like a country ...   \n",
       "\n",
       "                                                  url              created  \\\n",
       "44  https://www.reddit.com/r/IsraelPalestine/comme...  2025-07-24 08:31:16   \n",
       "45  https://www.reddit.com/r/IsraelPalestine/comme...  2025-06-30 00:55:36   \n",
       "46  https://www.reddit.com/r/IsraelPalestine/comme...  2025-06-18 20:49:56   \n",
       "47  https://www.reddit.com/r/IsraelPalestine/comme...  2025-06-04 19:13:57   \n",
       "48  https://www.reddit.com/r/IsraelPalestine/comme...  2025-05-18 08:38:31   \n",
       "\n",
       "    keyword  score  \n",
       "44  migrant     43  \n",
       "45  migrant     59  \n",
       "46  migrant     69  \n",
       "47  migrant     22  \n",
       "48  migrant    162  "
      ]
     },
     "execution_count": 63,
     "metadata": {},
     "output_type": "execute_result"
    }
   ],
   "source": [
    "df[df['subreddit']=='IsraelPalestine'].head()  # Example for specific subreddit"
   ]
  },
  {
   "cell_type": "code",
   "execution_count": 64,
   "id": "223dde3a",
   "metadata": {},
   "outputs": [
    {
     "data": {
      "text/html": [
       "<div>\n",
       "<style scoped>\n",
       "    .dataframe tbody tr th:only-of-type {\n",
       "        vertical-align: middle;\n",
       "    }\n",
       "\n",
       "    .dataframe tbody tr th {\n",
       "        vertical-align: top;\n",
       "    }\n",
       "\n",
       "    .dataframe thead th {\n",
       "        text-align: right;\n",
       "    }\n",
       "</style>\n",
       "<table border=\"1\" class=\"dataframe\">\n",
       "  <thead>\n",
       "    <tr style=\"text-align: right;\">\n",
       "      <th></th>\n",
       "      <th>subreddit</th>\n",
       "      <th>title</th>\n",
       "      <th>text</th>\n",
       "      <th>url</th>\n",
       "      <th>created</th>\n",
       "      <th>keyword</th>\n",
       "      <th>score</th>\n",
       "    </tr>\n",
       "  </thead>\n",
       "  <tbody>\n",
       "    <tr>\n",
       "      <th>0</th>\n",
       "      <td>ukraine</td>\n",
       "      <td>Volunteering in civilian roles</td>\n",
       "      <td>Hi,\\n\\nI’m an American. When the war broke out...</td>\n",
       "      <td>https://www.reddit.com/r/ukraine/comments/1m3v...</td>\n",
       "      <td>2025-07-19 14:54:55</td>\n",
       "      <td>refugee</td>\n",
       "      <td>61</td>\n",
       "    </tr>\n",
       "    <tr>\n",
       "      <th>1</th>\n",
       "      <td>ukraine</td>\n",
       "      <td>&lt;3</td>\n",
       "      <td>As a Polish person I just came here to tell yo...</td>\n",
       "      <td>https://www.reddit.com/r/ukraine/comments/1lxf...</td>\n",
       "      <td>2025-07-11 21:03:10</td>\n",
       "      <td>refugee</td>\n",
       "      <td>540</td>\n",
       "    </tr>\n",
       "    <tr>\n",
       "      <th>2</th>\n",
       "      <td>ukraine</td>\n",
       "      <td>The Angry Ukrainian Syndrome: Injustice and St...</td>\n",
       "      <td>I found this useful for understanding my own b...</td>\n",
       "      <td>https://www.reddit.com/r/ukraine/comments/1lio...</td>\n",
       "      <td>2025-06-23 20:38:06</td>\n",
       "      <td>refugee</td>\n",
       "      <td>227</td>\n",
       "    </tr>\n",
       "    <tr>\n",
       "      <th>3</th>\n",
       "      <td>ukraine</td>\n",
       "      <td>I wrote this letter to my representatives in c...</td>\n",
       "      <td>**Find your representatives here:** [**https:/...</td>\n",
       "      <td>https://www.reddit.com/r/ukraine/comments/1lfq...</td>\n",
       "      <td>2025-06-20 02:45:54</td>\n",
       "      <td>refugee</td>\n",
       "      <td>128</td>\n",
       "    </tr>\n",
       "    <tr>\n",
       "      <th>4</th>\n",
       "      <td>ukraine</td>\n",
       "      <td>Looking forward - would love to hear ppl's tho...</td>\n",
       "      <td>Sorry for the vague question, but I only have ...</td>\n",
       "      <td>https://www.reddit.com/r/ukraine/comments/1kv8...</td>\n",
       "      <td>2025-05-25 19:56:51</td>\n",
       "      <td>refugee</td>\n",
       "      <td>14</td>\n",
       "    </tr>\n",
       "  </tbody>\n",
       "</table>\n",
       "</div>"
      ],
      "text/plain": [
       "  subreddit                                              title  \\\n",
       "0   ukraine                     Volunteering in civilian roles   \n",
       "1   ukraine                                                 <3   \n",
       "2   ukraine  The Angry Ukrainian Syndrome: Injustice and St...   \n",
       "3   ukraine  I wrote this letter to my representatives in c...   \n",
       "4   ukraine  Looking forward - would love to hear ppl's tho...   \n",
       "\n",
       "                                                text  \\\n",
       "0  Hi,\\n\\nI’m an American. When the war broke out...   \n",
       "1  As a Polish person I just came here to tell yo...   \n",
       "2  I found this useful for understanding my own b...   \n",
       "3  **Find your representatives here:** [**https:/...   \n",
       "4  Sorry for the vague question, but I only have ...   \n",
       "\n",
       "                                                 url              created  \\\n",
       "0  https://www.reddit.com/r/ukraine/comments/1m3v...  2025-07-19 14:54:55   \n",
       "1  https://www.reddit.com/r/ukraine/comments/1lxf...  2025-07-11 21:03:10   \n",
       "2  https://www.reddit.com/r/ukraine/comments/1lio...  2025-06-23 20:38:06   \n",
       "3  https://www.reddit.com/r/ukraine/comments/1lfq...  2025-06-20 02:45:54   \n",
       "4  https://www.reddit.com/r/ukraine/comments/1kv8...  2025-05-25 19:56:51   \n",
       "\n",
       "   keyword  score  \n",
       "0  refugee     61  \n",
       "1  refugee    540  \n",
       "2  refugee    227  \n",
       "3  refugee    128  \n",
       "4  refugee     14  "
      ]
     },
     "execution_count": 64,
     "metadata": {},
     "output_type": "execute_result"
    }
   ],
   "source": [
    "df[df['subreddit']=='ukraine'].head()  # Example for specific subreddit"
   ]
  },
  {
   "cell_type": "code",
   "execution_count": 65,
   "id": "e5ca5605",
   "metadata": {},
   "outputs": [
    {
     "data": {
      "text/plain": [
       "score\n",
       "8        4\n",
       "13       3\n",
       "12       3\n",
       "20       3\n",
       "26       3\n",
       "        ..\n",
       "138      1\n",
       "890      1\n",
       "36793    1\n",
       "43       1\n",
       "16       1\n",
       "Name: count, Length: 66, dtype: int64"
      ]
     },
     "execution_count": 65,
     "metadata": {},
     "output_type": "execute_result"
    }
   ],
   "source": [
    "df['score'].value_counts()  # Example for specific subreddit]\n"
   ]
  },
  {
   "cell_type": "code",
   "execution_count": 66,
   "id": "bbef1ffe",
   "metadata": {},
   "outputs": [
    {
     "data": {
      "image/png": "[encoded data removed]",
      "text/plain": [
       "<Figure size 1000x600 with 1 Axes>"
      ]
     },
     "metadata": {},
     "output_type": "display_data"
    }
   ],
   "source": [
    "plt.figure(figsize=(10,6))\n",
    "scores = df[df['subreddit'] == 'politics']['score']\n",
    "plt.hist(scores, bins=50, log=True, edgecolor='black')\n",
    "plt.title('Score Distribution in r/politics (log scale)')\n",
    "plt.xlabel('Score')\n",
    "plt.ylabel('Frequency (log scale)')\n",
    "plt.show()"
   ]
  },
  {
   "cell_type": "code",
   "execution_count": 67,
   "id": "951e4343",
   "metadata": {},
   "outputs": [
    {
     "data": {
      "image/png": "[encoded data removed]",
      "text/plain": [
       "<Figure size 1400x500 with 2 Axes>"
      ]
     },
     "metadata": {},
     "output_type": "display_data"
    }
   ],
   "source": [
    "fig, axes = plt.subplots(1, 2, figsize=(14, 5), sharey=True)\n",
    "scores_israel = df[df['subreddit'] == 'IsraelPalestine']['score']\n",
    "scores_ukraine = df[df['subreddit'] == 'ukraine']['score']\n",
    "axes[0].hist(scores_israel, bins=50, color='blue', edgecolor='black', log=True)\n",
    "axes[0].set_title('IsraelPalestine Scores')\n",
    "axes[0].set_xlabel('Score')\n",
    "axes[0].set_ylabel('Frequency (log scale)')\n",
    "\n",
    "axes[1].hist(scores_ukraine, bins=50, color='orange', edgecolor='black', log=True)\n",
    "axes[1].set_title('Ukraine Scores')\n",
    "axes[1].set_xlabel('Score')\n",
    "\n",
    "plt.tight_layout()\n",
    "plt.show()\n"
   ]
  },
  {
   "cell_type": "code",
   "execution_count": 68,
   "id": "036c735d",
   "metadata": {},
   "outputs": [
    {
     "data": {
      "image/png": "[encoded data removed]",
      "text/plain": [
       "<Figure size 1400x800 with 1 Axes>"
      ]
     },
     "metadata": {},
     "output_type": "display_data"
    }
   ],
   "source": [
    "plt.figure(figsize=(14, 8))\n",
    "\n",
    "plt.hist(scores_israel[scores_israel < 500], bins=50, alpha=0.5, label='IsraelPalestine (<500)', edgecolor='black', log=True)\n",
    "plt.hist(scores_ukraine[scores_ukraine < 500], bins=50, alpha=0.5, label='Ukraine (<500)', edgecolor='black', log=True)\n",
    "\n",
    "plt.title('Score Distribution Zoomed (<500) - IsraelPalestine vs Ukraine')\n",
    "plt.xlabel('Score')\n",
    "plt.ylabel('Frequency (log scale)')\n",
    "plt.legend()\n",
    "plt.show()\n"
   ]
  },
  {
   "cell_type": "markdown",
   "id": "448cb920",
   "metadata": {},
   "source": [
    "Interpretation & implications:\n",
    "\n",
    "    r/IsraelPalestine appears to have many low-engagement or newly posted items, potentially with more recent or less popular content.\n",
    "\n",
    "    r/ukraine shows a more varied and engaged set of posts, with more posts earning medium to high scores.\n",
    "\n",
    "    This may reflect differences in subreddit size, activity, audience engagement, or post longevity.\n",
    "\n",
    "    It suggests Ukraine discussions might generate broader engagement, while IsraelPalestine posts might be more niche or recently posted."
   ]
  },
  {
   "cell_type": "code",
   "execution_count": 70,
   "id": "127aa8c5",
   "metadata": {},
   "outputs": [
    {
     "data": {
      "image/png": "[encoded data removed]",
      "text/plain": [
       "<Figure size 800x600 with 1 Axes>"
      ]
     },
     "metadata": {},
     "output_type": "display_data"
    }
   ],
   "source": [
    "import seaborn as sns\n",
    "\n",
    "plt.figure(figsize=(8, 6))\n",
    "subset = df[df['subreddit'].isin(['IsraelPalestine', 'ukraine'])]\n",
    "sns.boxplot(data=subset, x='subreddit', y='score')\n",
    "plt.yscale('log')\n",
    "plt.title('Score Distribution by Subreddit (log scale)')\n",
    "plt.show()\n"
   ]
  }
 ],
 "metadata": {
  "kernelspec": {
   "display_name": ".venv (3.12.9)",
   "language": "python",
   "name": "python3"
  },
  "language_info": {
   "codemirror_mode": {
    "name": "ipython",
    "version": 3
   },
   "file_extension": ".py",
   "mimetype": "text/x-python",
   "name": "python",
   "nbconvert_exporter": "python",
   "pygments_lexer": "ipython3",
   "version": "3.12.9"
  }
 },
 "nbformat": 4,
 "nbformat_minor": 5
}
